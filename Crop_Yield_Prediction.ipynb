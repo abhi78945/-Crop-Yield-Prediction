{
  "nbformat": 4,
  "nbformat_minor": 0,
  "metadata": {
    "colab": {
      "private_outputs": true,
      "provenance": [],
      "authorship_tag": "ABX9TyMMbaomFR1yfeM1gjKXClG8",
      "include_colab_link": true
    },
    "kernelspec": {
      "name": "python3",
      "display_name": "Python 3"
    },
    "language_info": {
      "name": "python"
    }
  },
  "cells": [
    {
      "cell_type": "markdown",
      "metadata": {
        "id": "view-in-github",
        "colab_type": "text"
      },
      "source": [
        "<a href=\"https://colab.research.google.com/github/abhi78945/-Crop-Yield-Prediction/blob/main/Crop_Yield_Prediction.ipynb\" target=\"_parent\"><img src=\"https://colab.research.google.com/assets/colab-badge.svg\" alt=\"Open In Colab\"/></a>"
      ]
    },
    {
      "cell_type": "markdown",
      "source": [
        "##Crop Yield Prediction 99%"
      ],
      "metadata": {
        "id": "kXV86M9gh87F"
      }
    },
    {
      "cell_type": "markdown",
      "source": [
        "Step 1 | Import Libraries"
      ],
      "metadata": {
        "id": "WWNNwxjSiMg3"
      }
    },
    {
      "cell_type": "code",
      "execution_count": null,
      "metadata": {
        "id": "L5dfgH4q71nb"
      },
      "outputs": [],
      "source": [
        "import warnings\n",
        "warnings.filterwarnings('ignore')\n",
        "import pandas as pd\n",
        "import matplotlib.pyplot as plt\n",
        "import seaborn as sns\n",
        "import numpy as np\n",
        "import geopandas as gpd\n",
        "import plotly.express as px"
      ]
    },
    {
      "cell_type": "code",
      "source": [
        "class colorss:\n",
        "    yellows=['#ffffd4','#fee391','#fec44f','#fe9929','#d95f0e','#993404','#a70000','#ff5252','#ff7b7b','#ffbaba']\n",
        "    greens=['#ffffd4','#fee391','#fec44f','#fe9929','#d9f0a3','#addd8e','#78c679','#41ab5d','#238443','#005a32']\n",
        "cmaps=['flare','icefire','bwr_r','Accent','Spectral','RdGy','afmhot_r','afmhot','inferno','seismic','vlag','vlag_r']"
      ],
      "metadata": {
        "id": "c43wJN308Awp"
      },
      "execution_count": null,
      "outputs": []
    },
    {
      "cell_type": "code",
      "source": [
        "df=pd.read_csv(\"/content/yield_df.csv\")\n",
        "df.head()"
      ],
      "metadata": {
        "id": "Psy1aNCw8KLg"
      },
      "execution_count": null,
      "outputs": []
    },
    {
      "cell_type": "code",
      "source": [
        "df.describe()"
      ],
      "metadata": {
        "id": "uYp-uIoJ-fvF"
      },
      "execution_count": null,
      "outputs": []
    },
    {
      "cell_type": "markdown",
      "source": [
        "Step 3.1 | Dataset Basic Information"
      ],
      "metadata": {
        "id": "g-jpqz_j_r6S"
      }
    },
    {
      "cell_type": "code",
      "source": [
        "df.info()"
      ],
      "metadata": {
        "id": "rZmWPUbF-7iT"
      },
      "execution_count": null,
      "outputs": []
    },
    {
      "cell_type": "markdown",
      "source": [
        "Inferences:\n",
        "\n",
        "Number of Entries:\n",
        "\n",
        " The dataset consists of 28242 entries, ranging from index 0 to 28241.\n",
        "\n",
        "Columns: There are 8 columns in the dataset.\n",
        "\n",
        "Data Types:\n",
        "\n",
        "Most of the columns (6 out of 8) are of the int64 & float64 data type.\n",
        "Only the Item and Area columns are of the object data type.\n",
        "\n",
        "Missing Values:\n",
        "\n",
        "There doesn't appear to be any missing values in the dataset as each column has 28242 non-null entries."
      ],
      "metadata": {
        "id": "2_jHbY96ArWh"
      }
    },
    {
      "cell_type": "markdown",
      "source": [
        "Step 3.2 | Summary Statistics for Numerical Variables¶"
      ],
      "metadata": {
        "id": "9m7fTllcBxld"
      }
    },
    {
      "cell_type": "markdown",
      "source": [
        "**Numerical Features:**\n",
        "\n",
        "**average_rain_fall_mm_per_year:** The average rainfall per year is approximately 1149, with the least rainfall being 51 and the most 3240.\n",
        "\n",
        "**pesticides_tonnes:** The mean pesticides used in tonnes is a whopping 37077 tonnes, with minimum as little as 0.04 and maximum as huge as 367778 tonnes.\n",
        "\n",
        "**hg/ha_yield:** The average crop production yield is 77053.3. Ranging from 50 all the way to 501412 hectograms per hectare."
      ],
      "metadata": {
        "id": "rYuCkYZiDQd0"
      }
    },
    {
      "cell_type": "markdown",
      "source": [
        "Step 3.3 | Summary Statistics for Categorical Variables"
      ],
      "metadata": {
        "id": "aYYS4xnaEU3w"
      }
    },
    {
      "cell_type": "code",
      "source": [
        "df.describe(include='object')"
      ],
      "metadata": {
        "id": "CDE39lhJD98Q"
      },
      "execution_count": null,
      "outputs": []
    },
    {
      "cell_type": "markdown",
      "source": [
        "**Categorical Features (object data type):**\n",
        "\n",
        "**Area:** There are 101 unique countries/areas, with India being the most frequent category, occurring 4048 times out of 28242 entries.\n",
        "\n",
        "**Item:** 10 unique types of crops are present. The most common type is \"Potatoes\", occurring 4276 times."
      ],
      "metadata": {
        "id": "HUsF7pIMEsGl"
      }
    },
    {
      "cell_type": "markdown",
      "source": [
        "Step 4 | EDA"
      ],
      "metadata": {
        "id": "EQBJiXUXFMnR"
      }
    },
    {
      "cell_type": "code",
      "source": [
        "df.drop(\"Unnamed: 0\", axis=1,inplace=True)\n",
        "df"
      ],
      "metadata": {
        "id": "qOpU4G20EnNf"
      },
      "execution_count": null,
      "outputs": []
    },
    {
      "cell_type": "code",
      "source": [
        "# remove countries with less than 100 record\n",
        "country_counts =df['Area'].value_counts()\n",
        "countries_to_drop = country_counts[country_counts < 100].index.tolist()\n",
        "df_filtered = df[~df['Area'].isin(countries_to_drop)]\n",
        "df = df_filtered.reset_index(drop=True)"
      ],
      "metadata": {
        "id": "ygOgo8Y8Fw26"
      },
      "execution_count": null,
      "outputs": []
    },
    {
      "cell_type": "code",
      "source": [
        "df"
      ],
      "metadata": {
        "id": "L8OcNoidGD_Y"
      },
      "execution_count": null,
      "outputs": []
    },
    {
      "cell_type": "code",
      "source": [
        "datacorr=df.copy()"
      ],
      "metadata": {
        "id": "wGrbc3-VGNvT"
      },
      "execution_count": null,
      "outputs": []
    },
    {
      "cell_type": "code",
      "source": [
        "from sklearn.preprocessing import LabelEncoder\n",
        "categorical_columns = datacorr.select_dtypes(include=['object']).columns.tolist()\n",
        "label_encoder = LabelEncoder()\n",
        "for column in categorical_columns:\n",
        "    datacorr[column] = label_encoder.fit_transform(datacorr[column])"
      ],
      "metadata": {
        "id": "2or_KkdZHt0M"
      },
      "execution_count": null,
      "outputs": []
    },
    {
      "cell_type": "code",
      "source": [
        "sns.heatmap(datacorr.corr() , annot= True , cmap='rocket')"
      ],
      "metadata": {
        "id": "0_ODp2oYHxG9"
      },
      "execution_count": null,
      "outputs": []
    },
    {
      "cell_type": "markdown",
      "source": [
        "**Inferences:**\n",
        "\n",
        "**Area:** There's a strong correlation between Area and pesticides_tonnes, along with Area and average rainfall\n",
        "\n",
        "**Items:** There's a strong correlation between Item and hg/ha_yield"
      ],
      "metadata": {
        "id": "dVfmoPzcJ0mL"
      }
    },
    {
      "cell_type": "code",
      "source": [
        "sns.set(palette='BrBG')\n",
        "df.hist(figsize=(5,10));"
      ],
      "metadata": {
        "id": "8_BpGZmUJpJ1"
      },
      "execution_count": null,
      "outputs": []
    },
    {
      "cell_type": "markdown",
      "source": [
        "**Inferences:**\n",
        "\n",
        "**rainfall:** Most rainfall is between 0-1000 and very few is around 3000\n",
        "\n",
        "**pesticides_tonnes:** The majority of used pesticides is little to zero\n",
        "\n",
        "**avg_temp:** Most average temperatures is around 25. *hg/ha yield: There is a vast majority of yield production around 0."
      ],
      "metadata": {
        "id": "7VMhgetjLaIZ"
      }
    },
    {
      "cell_type": "code",
      "source": [
        "sns.pairplot(data=df,hue='Item',kind='scatter',palette='BrBG')"
      ],
      "metadata": {
        "id": "gCzaPxfNLw50"
      },
      "execution_count": null,
      "outputs": []
    },
    {
      "cell_type": "code",
      "source": [
        "df2=df[df['Item']=='Yams']\n",
        "df2.groupby('Year')['hg/ha_yield'].mean().plot(color='brown')"
      ],
      "metadata": {
        "id": "j2HPFVVWMif1"
      },
      "execution_count": null,
      "outputs": []
    },
    {
      "cell_type": "markdown",
      "source": [
        "**Inferences:**\n",
        "\n",
        "**Items:**\n",
        "\n",
        "**yams:** It appears that yams uses a lot of pesticides, grow on all rainfall ranges.\n",
        "\n",
        "**wheat:** Wheat thrives on all average temperature ranges and grows on average to no rainfall.\n",
        "\n",
        "**year:**\n",
        "\n",
        "2003-2013: Starting from 2003 to 2013, more and more pesticides were used on yams to increase its productivity.\n",
        "\n",
        "**hg/ha_yield:** Sorghum and Soybeans are lowest in yield production while potatoes are most popular."
      ],
      "metadata": {
        "id": "CPi9_1unNNTu"
      }
    },
    {
      "cell_type": "code",
      "source": [
        "geojson_url = \"https://raw.githubusercontent.com/nvkelso/natural-earth-vector/master/geojson/ne_110m_admin_0_countries.geojson\"\n",
        "data = gpd.read_file(geojson_url)\n",
        "\n",
        "merged_data = data.merge(df, left_on='NAME', right_on='Area', how='left')"
      ],
      "metadata": {
        "id": "nljjSayTN4Cz"
      },
      "execution_count": null,
      "outputs": []
    },
    {
      "cell_type": "code",
      "source": [
        "# fig, ax = plt.subplots(figsize=(15, 10))\n",
        "merged_data.plot( column='hg/ha_yield', cmap='Greens_r', linewidth=0.8, edgecolor='0.8')\n",
        "# plt.title(\"Countries\")\n",
        "plt.show()"
      ],
      "metadata": {
        "id": "c34wHQb4Ohvt"
      },
      "execution_count": null,
      "outputs": []
    },
    {
      "cell_type": "code",
      "source": [
        "del merged_data"
      ],
      "metadata": {
        "id": "K4YF0EfBPC4o"
      },
      "execution_count": null,
      "outputs": []
    },
    {
      "cell_type": "code",
      "source": [
        "del data"
      ],
      "metadata": {
        "id": "C01LFkWsPE9H"
      },
      "execution_count": null,
      "outputs": []
    },
    {
      "cell_type": "code",
      "source": [
        "# import plotly.io as pio\n",
        "# pio.renderers.default = 'notebook'"
      ],
      "metadata": {
        "id": "KcyE_PUQPPvl"
      },
      "execution_count": null,
      "outputs": []
    },
    {
      "cell_type": "code",
      "source": [
        "palette = sns.color_palette('tab20', 21,as_cmap=True)\n",
        "num_plots = 7\n",
        "areas_per_plot = 10\n",
        "\n",
        "# Get unique areas\n",
        "unique_areas = sorted(df['Area'].unique())\n",
        "\n",
        "# Split into chunks\n",
        "area_chunks = [unique_areas[i:i+areas_per_plot] for i in range(0, len(unique_areas), areas_per_plot)]\n",
        "area_chunks[-2] = unique_areas[-11:]\n",
        "fig, axs = plt.subplots(ncols=num_plots, figsize=(30, 10))\n",
        "j=0\n",
        "for i, ax in enumerate(axs):\n",
        "\n",
        "    plot_df = df[df['Area'].isin(area_chunks[i])]\n",
        "    for i, area in enumerate(plot_df['Area'].unique()):\n",
        "       data = plot_df[plot_df['Area'] == area]\n",
        "       ax.hist(data['hg/ha_yield'], facecolor=palette(i), label=area)\n",
        "\n",
        "    ax.legend()\n",
        "    j+=1\n",
        "\n",
        "plt.show()"
      ],
      "metadata": {
        "id": "RkdNtcVKPTwb"
      },
      "execution_count": null,
      "outputs": []
    },
    {
      "cell_type": "code",
      "source": [
        "for i in range(0,7):\n",
        "    plot_df = df[df['Area'].isin(area_chunks[i])]\n",
        "    dk=plot_df.groupby(['Area','Item'])['hg/ha_yield'].mean().to_frame()\n",
        "    dg=dk.sort_values(by=['hg/ha_yield'],ascending=True)\n",
        "    display(dg.head())"
      ],
      "metadata": {
        "id": "wJPlmk3cPigH"
      },
      "execution_count": null,
      "outputs": []
    },
    {
      "cell_type": "code",
      "source": [
        "for i in range(0,7):\n",
        "    plot_df = df[df['Area'].isin(area_chunks[i])]\n",
        "    dk=plot_df.groupby(['Area','Item'])['hg/ha_yield'].mean().to_frame()\n",
        "    dg=dk.sort_values(by=['hg/ha_yield'],ascending=False)\n",
        "    display(dg.head())"
      ],
      "metadata": {
        "id": "LjfFncfNPyG8"
      },
      "execution_count": null,
      "outputs": []
    },
    {
      "cell_type": "code",
      "source": [
        "dk=df.groupby(['Area','Item'])['hg/ha_yield'].mean().to_frame()\n",
        "dk.sort_values(by=['hg/ha_yield'],ascending=False)"
      ],
      "metadata": {
        "id": "l9iYjODRQSeY"
      },
      "execution_count": null,
      "outputs": []
    },
    {
      "cell_type": "markdown",
      "source": [
        "**Inferences:**\n",
        "\n",
        "**Group 0:** Australia produced the largest amount of yield harvesting potatoes while Angola has the least yield harvesting sorghum,soybeans and maize.\n",
        "\n",
        "**Group 1:** Egypt was producing most yield in this group growing sweet potatoes and potatoes while Ecuador was struggling in harvesting wheat.\n",
        "\n",
        "**Group 2:** France and Germany are at the top of yield production both harvesting potatoes while Honduras wasn't in luck harvesting wheat\n",
        "\n",
        "**Group 3:** India soared in growing Cassava and Japan was at the top growing potatoes while Madagascar struggled to grow soybeans and sorghum.\n",
        "\n",
        "**Group 4:** Morocco and Mexico shined in yield production of potatoes while Niger failed to have high productions of wheat\n",
        "\n",
        "**Group 5:** Pakistan was struggling in growing sorghum while South Africa Spain, and Saudi Arabia shined in growing Potatoes\n",
        "\n",
        "**Group 6:** Tajikistan failed to harvest large amounts of soybeans while United Kingdom and Turkey produced a myriad of potatoes\n",
        "\n",
        "**Collectively:**\n",
        "Top producing countries: United Kingdom, France, Germany, Australia, and Japan\n",
        "Top produced Item: potatoes\n",
        "Least producing countries: Zimbabwe, Azerbaijan, Angola, Niger, Tajikistan\n",
        "Least produced item: sorghum and soybeans"
      ],
      "metadata": {
        "id": "fHbvU0gQQiVA"
      }
    },
    {
      "cell_type": "code",
      "source": [
        "for i in range(0,7):\n",
        "    plot_df = df[df['Area'].isin(area_chunks[i])]\n",
        "    plot_df.groupby(['Area'])['average_rain_fall_mm_per_year'].mean().plot(kind='bar',rot=0,color=colorss.greens)\n",
        "    plt.xticks(rotation=90)\n",
        "    plt.show()"
      ],
      "metadata": {
        "id": "RpD5N0-GRSc5"
      },
      "execution_count": null,
      "outputs": []
    },
    {
      "cell_type": "markdown",
      "source": [
        "**Inferences:**\n",
        "\n",
        "**Top rainfall countries:** Bangladesh, Colombia, Guyana, Indonesia, Nicaragua, Papua New Guinea, Ecuador, and Suriname have rainfall with over 2000 mm\n",
        "\n",
        "**Least rainfall countries:** Saudi Arabia, Pakistan, South Africa, Mali, Mauritania, Morocco, Niger, Libya, Iraq, Egypt, Azerbaijan,and Algeria have rainfall with less than 500 mm"
      ],
      "metadata": {
        "id": "Ftrdq0xhR4OM"
      }
    },
    {
      "cell_type": "code",
      "source": [
        "for i in range(0,7):\n",
        "    plot_df = df[df['Area'].isin(area_chunks[i])]\n",
        "    plot_df.groupby(['Area'])['pesticides_tonnes'].mean().plot(kind='bar',rot=0,color=colorss.yellows)\n",
        "    plt.xticks(rotation=90)\n",
        "    plt.show()"
      ],
      "metadata": {
        "id": "ZcNK1PdMSLTI"
      },
      "execution_count": null,
      "outputs": []
    },
    {
      "cell_type": "markdown",
      "source": [
        "**Inferences:**\n",
        "\n",
        "Top pesticides using countries: Brazil, Italy, Argentina\n",
        "\n",
        "**France:** For a high yield producing country, using over 80000 tonnes of pesticides could be harmful.\n",
        "\n",
        "**Japan:** Another high producing country using over 60000 tonnes of pesticides.\n",
        "\n",
        "**Least pesticides using countries:** Algeria, Angola, Azerbaijan, Bulgaria, Burkina Faso, Burundi, Cameroon, Cenrral African Republic, Croatia, Egypt, El Salvador,Greece, Guinea, Guyana, Haiti, Honduras, Hungary, Indonesia, Iraq, Jamaica, Kenya, Kazakhstan, Libya, Madagascar, Malawi, Mali, Mauritana, Mauritius, Mozambique, Nepal, Niger, Papua New\n",
        "\n",
        "Guinea, Rwanda, Senegal, Saudi Arabia, Sri Lanka, Suriname, Tajikistan, Uganda, Zambia, Zimbabwe, Uruguay have been using pesticides with less than 10000 tonnes\n",
        "\n",
        "All poorly producing yield countries are included in least pesticides usage countries\n",
        "\n",
        "Germany, Australia, and United Kingdom are top producing countries and they use an average amount of pesticides around 30000 tonnes"
      ],
      "metadata": {
        "id": "slhevZP-SfpV"
      }
    },
    {
      "cell_type": "code",
      "source": [
        "for i in range(0,7):\n",
        "    plot_df = df[df['Area'].isin(area_chunks[i])]\n",
        "    plot_df.groupby('Area')[['pesticides_tonnes', 'hg/ha_yield']].mean().plot(kind='bar',rot=0,color=colorss.yellows[-6:])\n",
        "    plt.xticks(rotation=90)\n",
        "    plt.show()"
      ],
      "metadata": {
        "id": "YFryLY0ZS22r"
      },
      "execution_count": null,
      "outputs": []
    },
    {
      "cell_type": "code",
      "source": [
        "px.scatter(df, x='hg/ha_yield', y='pesticides_tonnes',color=\"Area\",color_discrete_sequence=colorss.greens)"
      ],
      "metadata": {
        "id": "Uaf1la2TTz0X"
      },
      "execution_count": null,
      "outputs": []
    },
    {
      "cell_type": "code",
      "source": [
        "num_plots = 7\n",
        "areas_per_plot = 10\n",
        "\n",
        "# Get unique areas\n",
        "unique_areas = sorted(df['Area'].unique())\n",
        "\n",
        "# Split into chunks\n",
        "area_chunks = [unique_areas[i:i+areas_per_plot] for i in range(0, len(unique_areas), areas_per_plot)]\n",
        "area_chunks[-2] = unique_areas[-11:]\n",
        "fig, axs = plt.subplots(ncols=num_plots)\n",
        "j=0\n",
        "for i, ax in enumerate(axs):\n",
        "\n",
        "    plot_df = df[df['Area'].isin(area_chunks[i])]\n",
        "\n",
        "    ax = px.scatter(plot_df, x='hg/ha_yield', y='pesticides_tonnes',color=\"Area\",color_discrete_sequence=colorss.greens)\n",
        "    j+=1\n",
        "\n",
        "    ax.show()\n",
        "plt.clf()"
      ],
      "metadata": {
        "id": "VqRuhFOrUCQh"
      },
      "execution_count": null,
      "outputs": []
    },
    {
      "cell_type": "markdown",
      "source": [
        "Inferences:\n",
        "Group 0:\n",
        "Brazil had low yield production and as it used more and more pesticides their production went higher.\n",
        "\n",
        "However, Argentina, Australia, and Algeria kept their pesticides usage low and they had more yield production that Brazil ever could.\n",
        "\n",
        "Group 1:\n",
        "Colombia kept having low yield production despite using more pesticides. It was almost constant despite\n",
        "the increased usage of pesticides.\n",
        "Canada had one high yield production then went lower while using more pesticides until it had the same fate as Colombia\n",
        "Egypt, El Salvador, Dominican Republic, and Chile on the other hand, got very high yield productions while using a significantly lower amount of pesticides.\n",
        "\n",
        "Group 2:\n",
        "France have high yield production despite its high pesticide usage as it is one of the leading yield production countries. Although, it\n",
        "essened a little with more pesticides usage.\n",
        "\n",
        "Germany, Guatemala, and Guyana have high yield production while using less pesticides. even Guatemala had higher production than France at some point.\n",
        "\n",
        "Group 3:\n",
        "India and Japan have high yield productions while using less amounts of pesticides. India even beat Japan in some yield productions while using less pesticides as well.\n",
        "\n",
        "Italy however, is one of the countries that has the highest pesticides usage and its yield production wasn't as high as India and Japan\n",
        "Group 4:\n",
        "Mexico uses a significant amount of pesticides and its yield production kept increasing as more pesticides were used.\n",
        "\n",
        "Mali, Mauritius, and Niger had some high yield productions while using almost no pesticides which is impressive.\n",
        "Morocco kept using slightly more pesticides until it got a soaring 350k+ production then decreased slightly again.\n",
        "Nicaragua used more pesticides got to a maximum yield production then decreased again to an amount even lesser thaan it used to have before additional pesticides.\n",
        "Group 5:\n",
        "Senegal got to a soaring 350k+ production while using almost no pesticides.\n",
        "Saudi Arabia got high yield productions while using a small amount of pesticides.\n",
        "Portugal got more yield productions while utilizing a little more pesticides until it reached a certain threshold and decreased again.\n",
        "South Africa has a steady increase of yield production while adding more and more pesticides\n",
        "Spain on the other hand, has some yield flunctuations but overall it is a high yield production. Although Senegal and South Africa beat it using less pesticides\n",
        "\n",
        "Group 6:\n",
        "\n",
        "Tajikistan and Suriname use almost no pesticides and they reached high amounts of yield productions. Even though Tajikistan is one of the least producing countries but it has very high potential of being close to the top producing countries.\n",
        "United Kingdom has high yield production and uses a fair amount of pesticides it's no surprise as it's one of the leading producing countries.\n",
        "Turkey has lesser yield productions than United Kingdom and Suriname while utilizing more pesticides. *Thailand and Ukraine used way more pesticides and still their productions were lower than the above countries\n",
        "\n",
        "Conclusion:\n",
        "While using pesticides increases yield production, there was an obvious pattern happening.\n",
        "\n",
        "Yield producion is at a considerable amomunt -> use pesticides -> yield production increases -> comes to maximum production -> yield gradually decreases -> yield becomes even less than the starting yield amount no matter how many more pesticides the country uses.\n",
        "\n",
        "However, there were some exceptions to this pattern such as France and Japan as they are top leading producing countries and other countries.\n",
        "You can increase production by using more pesticides but it is temporary nonetheless and in the long run it is better to use less pesticides.\n",
        "There were a lot of countries that showed impressive yield productions using almost no pesticides and this amount was never reached by other countries who do use pesticides. Those countries were Senegal, Suriname, Tajikistan, Mali, Mauritius, Guyana, Algeria, and El Salvador. They should focus more on growing more crops and businessmen should invest in growing crops in these countries as they have a very high potential in yield production of crops.\n",
        "Other countries who use a tiny amount of pesticides and still have promising yield productions are Egypt, Chile, Morocco, South Africa, and Guatemala. It is also recommended to invest in these countries as they have reassuring yield productions.\n",
        "The perfect amount of pesticides to use without having to go through the tedious pattern is 30k and below."
      ],
      "metadata": {
        "id": "7wezVK9RUUw7"
      }
    },
    {
      "cell_type": "code",
      "source": [
        "sns.barplot(data=df, x = df.Item, y = df['pesticides_tonnes'],palette='BrBG')\n",
        "plt.xticks(rotation=90)\n",
        "plt.show()"
      ],
      "metadata": {
        "id": "8RXZ9Vk8VYp0"
      },
      "execution_count": null,
      "outputs": []
    },
    {
      "cell_type": "markdown",
      "source": [
        "**Inferences:**\n",
        "\n",
        "**Top pesticides used on items:** Yams\n",
        "**Least pesticides used on items:** Plantains and others"
      ],
      "metadata": {
        "id": "aDZIpl_eVvfZ"
      }
    },
    {
      "cell_type": "code",
      "source": [
        "a4_dims = (16.7, 8.27)\n",
        "\n",
        "fig, ax = plt.subplots(figsize=a4_dims)\n",
        "sns.boxplot(x=\"Item\",y=\"hg/ha_yield\",palette=\"BrBG\",data=df,ax=ax)"
      ],
      "metadata": {
        "id": "af8d-NsbWlZT"
      },
      "execution_count": null,
      "outputs": []
    },
    {
      "cell_type": "markdown",
      "source": [
        "**Inferences:**\n",
        "\n",
        "Top producing items: potatoes, cassava\n",
        "Least producing items: soybeans, sorghum, wheat, maize, and rice, paddy"
      ],
      "metadata": {
        "id": "ipbEzKyuXBAN"
      }
    },
    {
      "cell_type": "code",
      "source": [
        "sns.scatterplot(x = 'Item', y = 'avg_temp', data = df,size=10,color='y')\n",
        "plt.xticks(rotation=90);"
      ],
      "metadata": {
        "id": "KZ5y7yOOXJdg"
      },
      "execution_count": null,
      "outputs": []
    },
    {
      "cell_type": "markdown",
      "source": [
        "**Inferences:**\n",
        "\n",
        "Cassava, Yams, and Plantains and others need more than 15 avg temperature to grow\n",
        "all other items can grow at any temperature range"
      ],
      "metadata": {
        "id": "hGpFOS_wXeut"
      }
    },
    {
      "cell_type": "code",
      "source": [
        "grouped = df.groupby('Item')\n",
        "\n",
        "best_areas = []\n",
        "\n",
        "for item, group in grouped:\n",
        "    max_production_row = group[group['hg/ha_yield'] == group['hg/ha_yield'].max()]\n",
        "\n",
        "    area = max_production_row['Area'].values[0]\n",
        "    production = max_production_row['hg/ha_yield'].values[0]\n",
        "\n",
        "    best_areas.append({'Item': item, 'Area': area, 'hg/ha_yield': production})\n",
        "best_areas_df = pd.DataFrame(best_areas)\n",
        "\n",
        "best_areas_df"
      ],
      "metadata": {
        "id": "ra_MdTI7Xttq"
      },
      "execution_count": null,
      "outputs": []
    },
    {
      "cell_type": "code",
      "source": [
        "ax=sns.barplot(data=best_areas_df,x='hg/ha_yield',y='Area',hue='Item',palette=colorss.yellows)\n",
        "ax.legend(bbox_to_anchor=(1.05, 1), loc='upper left')\n",
        "plt.show()"
      ],
      "metadata": {
        "id": "vKHlLGiZYYPi"
      },
      "execution_count": null,
      "outputs": []
    },
    {
      "cell_type": "markdown",
      "source": [
        "**Inferences:**\n",
        "\n",
        "Cassava: India is the top at producing Cassava\n",
        "Maize: Tajikistan excels at growing Maize\n",
        "PLantains and others: Guatemala is the best source of PLantains and others\n",
        "Potatoes: France is the top at producing potatoes\n",
        "Rice, paddy: Australia is the leading country in producing rice, paddy\n",
        "Sorghum: Algeria excels at producing sorghum\n",
        "Soybeans: Turkey is unrivalled in producing soybeans\n",
        "Sweet potatoes: Senegal is the best at producing sweet potatoes\n",
        "Wheat: Zambbia surpasses every country at producing wheat\n",
        "Yams: Mali outshines all countries in growing yams"
      ],
      "metadata": {
        "id": "gdHlJ-2xYhd1"
      }
    },
    {
      "cell_type": "code",
      "source": [
        "fig, axes = plt.subplots(4, 1, figsize=(18, 22))\n",
        "\n",
        "sns.scatterplot(x = \"pesticides_tonnes\", y = \"hg/ha_yield\", hue = \"Item\", data = df, ax=axes[0], legend = True,palette='Spectral')\n",
        "axes[0].tick_params(axis='x', rotation=45)\n",
        "axes[0].set_ylabel('Average Yield')\n",
        "axes[0].legend(bbox_to_anchor=(1.05, 1), loc='upper left')\n",
        "\n",
        "sns.scatterplot(x = \"average_rain_fall_mm_per_year\", y = \"hg/ha_yield\", hue = \"Item\", data = df, ax=axes[1], legend = True,palette='Spectral')\n",
        "axes[1].tick_params(axis='x', rotation=45)\n",
        "axes[1].set_ylabel('Average Yield')\n",
        "axes[1].legend(bbox_to_anchor=(1.05, 1), loc='upper left')\n",
        "\n",
        "sns.scatterplot(x = \"avg_temp\", y = \"hg/ha_yield\", hue = \"Item\", data = df, ax=axes[2], legend = True,palette='Spectral')\n",
        "axes[2].tick_params(axis='x', rotation=45)\n",
        "axes[2].set_ylabel('Average Yield')\n",
        "axes[2].legend(bbox_to_anchor=(1.05, 1), loc='upper left')\n",
        "\n",
        "sns.lineplot(x = \"Year\", y = \"hg/ha_yield\", hue = \"Item\", data = df, ax=axes[3], legend = True,palette='Spectral')\n",
        "axes[3].tick_params(axis='x', rotation=45)\n",
        "axes[3].set_ylabel('Average Yield')\n",
        "axes[3].legend(bbox_to_anchor=(1.05, 1), loc='upper left')\n",
        "\n",
        "plt.tight_layout()\n",
        "plt.show()"
      ],
      "metadata": {
        "id": "PTdpCUMsZhdp"
      },
      "execution_count": null,
      "outputs": []
    },
    {
      "cell_type": "markdown",
      "source": [
        "**Inferences:**\n",
        "\n",
        "pesticidies_tonnes: it appears that production of items decreases as pesticides increases\n",
        "rainfall: it appears that production of items decreases as rainfall increases for more than 2500\n",
        "avg_temp: it shows that average yield decreases as average temperature decreases below 5"
      ],
      "metadata": {
        "id": "4nHtFoJ3aaeo"
      }
    },
    {
      "cell_type": "code",
      "source": [
        "def change_of_years(data, template='seaborn'):\n",
        "    col = data.columns[3:].tolist()\n",
        "    for i in col:\n",
        "        sns.lineplot(data.groupby(['Year'])[i].mean(),color='brown')\n",
        "        plt.title=f'Effect of Years on the {i}'\n",
        "\n",
        "\n",
        "        plt.show()\n",
        "        yield()"
      ],
      "metadata": {
        "id": "5bAjYHKGY0HD"
      },
      "execution_count": null,
      "outputs": []
    },
    {
      "cell_type": "code",
      "source": [
        "yplot = change_of_years(df)\n",
        "next(yplot);"
      ],
      "metadata": {
        "id": "26eGZxiHa4kt"
      },
      "execution_count": null,
      "outputs": []
    },
    {
      "cell_type": "code",
      "source": [
        "next(yplot);"
      ],
      "metadata": {
        "id": "d362GToObE3e"
      },
      "execution_count": null,
      "outputs": []
    },
    {
      "cell_type": "markdown",
      "source": [
        "**Inferences:**\n",
        "\n",
        "pesticides have been increasing significantly since 2003"
      ],
      "metadata": {
        "id": "I-GKPjk3bXL9"
      }
    },
    {
      "cell_type": "code",
      "source": [
        "next(yplot);"
      ],
      "metadata": {
        "id": "Wm5QIeXxbgIN"
      },
      "execution_count": null,
      "outputs": []
    },
    {
      "cell_type": "code",
      "source": [
        "next(yplot);"
      ],
      "metadata": {
        "id": "XyTMOqg3cXO0"
      },
      "execution_count": null,
      "outputs": []
    },
    {
      "cell_type": "code",
      "source": [
        "df_Egypt = df.loc[df['Area'] == 'Egypt']\n",
        "yplot = change_of_years(df_Egypt)\n",
        "next(yplot);"
      ],
      "metadata": {
        "id": "GI53KFywcfuP"
      },
      "execution_count": null,
      "outputs": []
    },
    {
      "cell_type": "markdown",
      "source": [
        "**Inferences:**\n",
        "\n",
        "A significant decrease in pesticides occurred between 1993-2005 then it increased even higher than its starting value"
      ],
      "metadata": {
        "id": "gYxKwtuHc0bP"
      }
    },
    {
      "cell_type": "code",
      "source": [
        "next(yplot);"
      ],
      "metadata": {
        "id": "oje4Rh7ldTTS"
      },
      "execution_count": null,
      "outputs": []
    },
    {
      "cell_type": "code",
      "source": [
        "next(yplot);"
      ],
      "metadata": {
        "id": "zUy6F0gibR66"
      },
      "execution_count": null,
      "outputs": []
    },
    {
      "cell_type": "markdown",
      "source": [
        "Step 5 | Model building and evaluation"
      ],
      "metadata": {
        "id": "o6qbgQCtdxZa"
      }
    },
    {
      "cell_type": "code",
      "source": [
        "from sklearn.linear_model import LinearRegression\n",
        "from sklearn.ensemble import RandomForestRegressor, GradientBoostingRegressor\n",
        "from sklearn.metrics import mean_squared_error, r2_score, mean_absolute_error, mean_absolute_percentage_error\n",
        "from xgboost import XGBRegressor\n",
        "from sklearn.model_selection import train_test_split\n",
        "from sklearn.preprocessing import LabelEncoder, StandardScaler\n",
        "from sklearn.model_selection import cross_val_score\n",
        "from sklearn.model_selection import KFold\n",
        "from sklearn.neighbors import KNeighborsRegressor\n",
        "from sklearn.tree import DecisionTreeRegressor\n",
        "from sklearn.ensemble import BaggingRegressor"
      ],
      "metadata": {
        "id": "_OsL8qr7dZm8"
      },
      "execution_count": null,
      "outputs": []
    },
    {
      "cell_type": "code",
      "source": [
        "X, y = datacorr.drop(labels='hg/ha_yield', axis=1), datacorr['hg/ha_yield']"
      ],
      "metadata": {
        "id": "pr9IATCQeLUz"
      },
      "execution_count": null,
      "outputs": []
    },
    {
      "cell_type": "code",
      "source": [
        "X_train, X_test, y_train, y_test = train_test_split(X, y, test_size=0.3, random_state=42)"
      ],
      "metadata": {
        "id": "7F7ZPsgreY5B"
      },
      "execution_count": null,
      "outputs": []
    },
    {
      "cell_type": "code",
      "source": [
        "results = []\n",
        "\n",
        "models = [\n",
        "    ('Linear Regression', LinearRegression()),\n",
        "    ('Random Forest', RandomForestRegressor(random_state=42)),\n",
        "    ('Gradient Boost', GradientBoostingRegressor(n_estimators=100, learning_rate=0.1, max_depth=3,random_state=42)),\n",
        "    ('XGBoost', XGBRegressor(random_state=42)),\n",
        "    ('KNN',KNeighborsRegressor(n_neighbors=5)),\n",
        "    ('Decision Tree',DecisionTreeRegressor(random_state=42)),\n",
        "    ('Bagging Regressor',BaggingRegressor(n_estimators=150, random_state=42))\n",
        "          ]\n",
        "for name, model in models:\n",
        "    model.fit(X_train, y_train)\n",
        "    y_pred = model.predict(X_test)\n",
        "    accuracy = model.score(X_test, y_test)\n",
        "    MSE = mean_squared_error(y_test, y_pred)\n",
        "    R2_score = r2_score(y_test, y_pred)\n",
        "    results.append((name, accuracy, MSE, R2_score))\n",
        "    acc = (model.score(X_train , y_train)*100)\n",
        "    print(f'The accuracy of the {name} Model Train is {acc:.2f}')\n",
        "    acc =(model.score(X_test , y_test)*100)\n",
        "    print(f'The accuracy of the  {name} Model Test is {acc:.2f}')\n",
        "    plt.scatter(y_test, y_pred,s=10,color='#9B673C')\n",
        "    plt.xlabel('Actual Values')\n",
        "    plt.ylabel('Predicted Values')\n",
        "#     plt.title(f' {name} Evaluation')\n",
        "    plt.plot([min(y_test), max(y_test)], [min(y_test), max(y_test)], color='green', linewidth = 4)\n",
        "    plt.show()\n",
        "dff = pd.DataFrame(results, columns=['Model', 'Accuracy', 'MSE', 'R2_score'])\n",
        "df_styled_best = dff.style.highlight_max(subset=['Accuracy','R2_score'], color='green').highlight_min(subset=['MSE'], color='green').highlight_max(subset=['MSE'], color='red').highlight_min(subset=['Accuracy','R2_score'], color='red')\n",
        "\n",
        "# df_styled_worst = dff.style.highlight_max(subset=['MSE'], color='red').highlight_min(subset=['Accuracy','R2_score'], color='red')\n",
        "display(df_styled_best)\n",
        "# display(df_styled_worst)"
      ],
      "metadata": {
        "id": "R3kus0_rer1f"
      },
      "execution_count": null,
      "outputs": []
    },
    {
      "cell_type": "markdown",
      "source": [
        "Kefold"
      ],
      "metadata": {
        "id": "1LEDRaP-gLGw"
      }
    },
    {
      "cell_type": "code",
      "source": [
        "results = []\n",
        "\n",
        "models = [\n",
        "    ('Linear Regression', LinearRegression()),\n",
        "    ('Random Forest', RandomForestRegressor(random_state=42)),\n",
        "    ('Gradient Boost', GradientBoostingRegressor(n_estimators=100, learning_rate=0.1, max_depth=3,random_state=42)),\n",
        "    ('XGBoost', XGBRegressor(random_state=42)),\n",
        "    ('KNN',KNeighborsRegressor(n_neighbors=5)),\n",
        "    ('Decision Tree',DecisionTreeRegressor(random_state=42)),\n",
        "    ('Bagging Regressor',BaggingRegressor(n_estimators=150, random_state=42))\n",
        "          ]\n",
        "for name, model in models:\n",
        "    model.fit(X_train, y_train)\n",
        "    y_pred = model.predict(X_test)\n",
        "    accuracy = model.score(X_test, y_test)\n",
        "    MSE = mean_squared_error(y_test, y_pred)\n",
        "    MAE = mean_absolute_error(y_test, y_pred)\n",
        "    MAPE = mean_absolute_percentage_error(y_test, y_pred)\n",
        "    R2_score = r2_score(y_test, y_pred)\n",
        "    results.append((name, accuracy, MSE, MAE, MAPE, R2_score))\n",
        "\n",
        "    print(name)\n",
        "    num_folds = 5\n",
        "    kf = KFold(n_splits=num_folds, shuffle=True)\n",
        "    scores = cross_val_score(model, X, y, cv=kf)\n",
        "\n",
        "    for fold, score in enumerate(scores):\n",
        "        print(f\"Fold {fold+1}: {score}\")\n",
        "\n",
        "    mean_score = np.mean(scores)\n",
        "    print(f\"Mean Score: {mean_score}\")\n",
        "    print('-'*30)\n",
        "\n",
        "\n",
        "df = pd.DataFrame(results, columns=['Model', 'Accuracy', 'MSE', 'MAE', 'MAPE', 'R2_score'])\n",
        "df_styled_best = df.style.highlight_max(subset=['Accuracy','R2_score'], color='lightblue').highlight_min(subset=['MSE','MAE','MAPE'], color='lightblue').highlight_max(subset=['MSE','MAE','MAPE'], color='red').highlight_min(subset=['Accuracy','R2_score'], color='red')\n",
        "\n",
        "display(df_styled_best)"
      ],
      "metadata": {
        "id": "pgnIvll_gJ8e"
      },
      "execution_count": null,
      "outputs": []
    }
  ]
}